{
  "cells": [
    {
      "cell_type": "markdown",
      "metadata": {
        "id": "view-in-github",
        "colab_type": "text"
      },
      "source": [
        "<a href=\"https://colab.research.google.com/github/chammika-udalagama/test-collaboration/blob/main/Test_1.ipynb\" target=\"_parent\"><img src=\"https://colab.research.google.com/assets/colab-badge.svg\" alt=\"Open In Colab\"/></a>"
      ]
    },
    {
      "cell_type": "markdown",
      "id": "2aa3f4a3-5c5d-4f89-96db-3fdc5a709a0f",
      "metadata": {
        "id": "2aa3f4a3-5c5d-4f89-96db-3fdc5a709a0f"
      },
      "source": [
        "# Collaborating with GitHub"
      ]
    },
    {
      "cell_type": "markdown",
      "id": "1fb7f552-774a-4149-87e4-1c00ceeedbe8",
      "metadata": {
        "id": "1fb7f552-774a-4149-87e4-1c00ceeedbe8"
      },
      "source": [
        "## Changes without conflicts\n",
        "\n",
        "If you make changes on different cells or lines or in different files, there will be no conflicts between your updates and what is found in the 'cloud'. These can easily be resolved by pulling and pushing."
      ]
    },
    {
      "cell_type": "markdown",
      "id": "e8b453c1-2ce9-4485-b7ad-8906b968ce98",
      "metadata": {
        "id": "e8b453c1-2ce9-4485-b7ad-8906b968ce98"
      },
      "source": [
        "| Old  | New  |\n",
        "| :--: | :--: |\n",
        "| AAAA |      |\n",
        "| BBBB |      |\n",
        "| cccc |      |\n",
        "| DDDD |      |\n",
        "\n"
      ]
    },
    {
      "cell_type": "markdown",
      "id": "7c34b7ec-7aa0-499b-bce9-4d0b10937ef8",
      "metadata": {
        "id": "7c34b7ec-7aa0-499b-bce9-4d0b10937ef8"
      },
      "source": [
        "## Changes with conflicts"
      ]
    },
    {
      "cell_type": "markdown",
      "id": "63a76d59-a905-4750-b263-65271d436922",
      "metadata": {
        "id": "63a76d59-a905-4750-b263-65271d436922"
      },
      "source": [
        "\n",
        "\n",
        "```\n",
        "# This is formatted as code\n",
        "```\n",
        "\n",
        "AAAA BBBB cccc DDDD"
      ]
    },
    {
      "cell_type": "code",
      "execution_count": null,
      "id": "3f873be5-a911-47b5-998d-a15a927101ee",
      "metadata": {
        "id": "3f873be5-a911-47b5-998d-a15a927101ee"
      },
      "outputs": [],
      "source": []
    }
  ],
  "metadata": {
    "kernelspec": {
      "display_name": "Python 3 (ipykernel)",
      "language": "python",
      "name": "python3"
    },
    "language_info": {
      "codemirror_mode": {
        "name": "ipython",
        "version": 3
      },
      "file_extension": ".py",
      "mimetype": "text/x-python",
      "name": "python",
      "nbconvert_exporter": "python",
      "pygments_lexer": "ipython3",
      "version": "3.9.18"
    },
    "colab": {
      "provenance": [],
      "toc_visible": true,
      "include_colab_link": true
    }
  },
  "nbformat": 4,
  "nbformat_minor": 5
}