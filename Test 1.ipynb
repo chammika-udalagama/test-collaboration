{
 "cells": [
  {
   "cell_type": "markdown",
   "id": "2aa3f4a3-5c5d-4f89-96db-3fdc5a709a0f",
   "metadata": {},
   "source": [
    "# Collaborating with GitHub"
   ]
  },
  {
   "cell_type": "markdown",
   "id": "e8b453c1-2ce9-4485-b7ad-8906b968ce98",
   "metadata": {},
   "source": [
    "| Old  | New  |\n",
    "| :--: | :--: |\n",
    "| AAAA |      |\n",
    "| BBBB |      |\n",
    "| cccc |      |\n",
    "| DDDD |      |\n",
    "\n"
   ]
  },
  {
   "cell_type": "code",
   "execution_count": null,
   "id": "d4501da5-8f95-4607-b678-d81fe6676b09",
   "metadata": {},
   "outputs": [],
   "source": []
  }
 ],
 "metadata": {
  "kernelspec": {
   "display_name": "Python 3 (ipykernel)",
   "language": "python",
   "name": "python3"
  },
  "language_info": {
   "codemirror_mode": {
    "name": "ipython",
    "version": 3
   },
   "file_extension": ".py",
   "mimetype": "text/x-python",
   "name": "python",
   "nbconvert_exporter": "python",
   "pygments_lexer": "ipython3",
   "version": "3.9.18"
  }
 },
 "nbformat": 4,
 "nbformat_minor": 5
}
