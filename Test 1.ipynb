{
 "cells": [
  {
   "cell_type": "markdown",
   "id": "2aa3f4a3-5c5d-4f89-96db-3fdc5a709a0f",
   "metadata": {},
   "source": [
    "# Collaborating with GitHub"
   ]
  },
  {
   "cell_type": "markdown",
   "id": "1fb7f552-774a-4149-87e4-1c00ceeedbe8",
   "metadata": {},
   "source": [
    "## Changes without conflicts\n",
    "\n",
    "If you make changes on different cells or lines or in different files, there will be no conflicts between your updates and what is found in the 'cloud'. These can easily be resolved by pulling and pushing. "
   ]
  },
  {
   "cell_type": "markdown",
   "id": "e8b453c1-2ce9-4485-b7ad-8906b968ce98",
   "metadata": {},
   "source": [
    "| Old  | New  |\n",
    "| :--: | :--: |\n",
    "| AAAA |      |\n",
    "| BBBB |      |\n",
    "| cccc |      |\n",
    "| DDDD |      |\n",
    "\n"
   ]
  },
  {
   "cell_type": "markdown",
   "id": "7c34b7ec-7aa0-499b-bce9-4d0b10937ef8",
   "metadata": {},
   "source": [
    "## Changes with conflicts"
   ]
  },
  {
   "cell_type": "markdown",
   "id": "63a76d59-a905-4750-b263-65271d436922",
   "metadata": {},
   "source": [
    "aaaa bbbb cccc dddd"
   ]
  },
  {
   "cell_type": "code",
   "execution_count": null,
   "id": "3f873be5-a911-47b5-998d-a15a927101ee",
   "metadata": {},
   "outputs": [],
   "source": []
  }
 ],
 "metadata": {
  "kernelspec": {
   "display_name": "Python 3 (ipykernel)",
   "language": "python",
   "name": "python3"
  },
  "language_info": {
   "codemirror_mode": {
    "name": "ipython",
    "version": 3
   },
   "file_extension": ".py",
   "mimetype": "text/x-python",
   "name": "python",
   "nbconvert_exporter": "python",
   "pygments_lexer": "ipython3",
   "version": "3.11.5"
  }
 },
 "nbformat": 4,
 "nbformat_minor": 5
}
